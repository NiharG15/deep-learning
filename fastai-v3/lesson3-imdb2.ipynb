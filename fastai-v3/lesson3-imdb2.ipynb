{
 "cells": [
  {
   "cell_type": "code",
   "execution_count": 1,
   "metadata": {
    "ExecuteTime": {
     "end_time": "2018-11-18T04:36:30.168844Z",
     "start_time": "2018-11-18T04:36:24.661183Z"
    }
   },
   "outputs": [],
   "source": [
    "%reload_ext autoreload\n",
    "%autoreload 2\n",
    "%matplotlib inline"
   ]
  },
  {
   "cell_type": "code",
   "execution_count": 2,
   "metadata": {
    "ExecuteTime": {
     "end_time": "2018-11-18T04:36:49.940332Z",
     "start_time": "2018-11-18T04:36:30.170570Z"
    }
   },
   "outputs": [],
   "source": [
    "from fastai import *\n",
    "from fastai.text import *"
   ]
  },
  {
   "cell_type": "code",
   "execution_count": 21,
   "metadata": {
    "ExecuteTime": {
     "end_time": "2018-11-18T04:47:46.397196Z",
     "start_time": "2018-11-18T04:47:44.145014Z"
    }
   },
   "outputs": [
    {
     "name": "stdout",
     "output_type": "stream",
     "text": [
      "--2018-11-18 04:47:44--  http://www.cs.cornell.edu/people/pabo/movie-review-data/review_polarity.tar.gz\n",
      "Resolving www.cs.cornell.edu (www.cs.cornell.edu)... 132.236.207.20\n",
      "Connecting to www.cs.cornell.edu (www.cs.cornell.edu)|132.236.207.20|:80... connected.\n",
      "HTTP request sent, awaiting response... 200 OK\n",
      "Length: 3127238 (3.0M) [application/x-gzip]\n",
      "Saving to: ‘review_polarity.tar.gz’\n",
      "\n",
      "review_polarity.tar 100%[===================>]   2.98M  1.66MB/s    in 1.8s    \n",
      "\n",
      "2018-11-18 04:47:46 (1.66 MB/s) - ‘review_polarity.tar.gz’ saved [3127238/3127238]\n",
      "\n"
     ]
    }
   ],
   "source": [
    "!wget http://www.cs.cornell.edu/people/pabo/movie-review-data/review_polarity.tar.gz"
   ]
  },
  {
   "cell_type": "code",
   "execution_count": 22,
   "metadata": {
    "ExecuteTime": {
     "end_time": "2018-11-18T04:47:56.685915Z",
     "start_time": "2018-11-18T04:47:56.548158Z"
    }
   },
   "outputs": [],
   "source": [
    "!mkdir data/imdb2"
   ]
  },
  {
   "cell_type": "code",
   "execution_count": 24,
   "metadata": {
    "ExecuteTime": {
     "end_time": "2018-11-18T04:49:12.274310Z",
     "start_time": "2018-11-18T04:49:12.248503Z"
    }
   },
   "outputs": [],
   "source": [
    "path = Path('data/imdb2/txt_sentoken/')"
   ]
  },
  {
   "cell_type": "code",
   "execution_count": 25,
   "metadata": {
    "ExecuteTime": {
     "end_time": "2018-11-18T04:49:18.162245Z",
     "start_time": "2018-11-18T04:49:18.138863Z"
    }
   },
   "outputs": [
    {
     "data": {
      "text/plain": [
       "[PosixPath('data/imdb2/txt_sentoken/pos'),\n",
       " PosixPath('data/imdb2/txt_sentoken/neg')]"
      ]
     },
     "execution_count": 25,
     "metadata": {},
     "output_type": "execute_result"
    }
   ],
   "source": [
    "path.ls()"
   ]
  },
  {
   "cell_type": "code",
   "execution_count": 26,
   "metadata": {
    "ExecuteTime": {
     "end_time": "2018-11-18T04:52:31.823545Z",
     "start_time": "2018-11-18T04:52:25.356447Z"
    }
   },
   "outputs": [],
   "source": [
    "data_lm = (TextFileList.from_folder(path)\n",
    "          .label_const(0)\n",
    "          .random_split_by_pct(0.2)\n",
    "          .datasets()\n",
    "          .tokenize()\n",
    "          .numericalize()\n",
    "          .databunch(TextLMDataBunch))"
   ]
  },
  {
   "cell_type": "code",
   "execution_count": 36,
   "metadata": {
    "ExecuteTime": {
     "end_time": "2018-11-18T04:53:40.321213Z",
     "start_time": "2018-11-18T04:53:40.230192Z"
    }
   },
   "outputs": [],
   "source": [
    "data_lm.save('tmp_lm')"
   ]
  },
  {
   "cell_type": "code",
   "execution_count": 37,
   "metadata": {
    "ExecuteTime": {
     "end_time": "2018-11-18T04:54:11.894568Z",
     "start_time": "2018-11-18T04:53:51.292460Z"
    }
   },
   "outputs": [
    {
     "data": {
      "text/html": [
       "<table>  <col width='5%'>  <col width='95%'>  <tr>\n",
       "    <th>idx</th>\n",
       "    <th>text</th>\n",
       "  </tr>\n",
       "  <tr>\n",
       "    <th>0</th>\n",
       "    <th>xxfld 1 unfortunately it does n't get much more formulaic than one tough cop . \\n there 's the renegade cop with the loser partner who has to many problems to explain . \\n the renegade has to prove his good name and is trapped between the good guys , the bad guys and some woman who really has nothing to do with the story other than being there for the purpose of providing sex for the hero in the middle of the film . \\n bo xxunk ( pronounced xxunk , baldwin ) is</th>\n",
       "  </tr>\n",
       "  <tr>\n",
       "    <th>1</th>\n",
       "    <th>a bunch of flat lies . \\n it came as no surprise to me to learn that huntingburg , indiana ( where the film is set ) , does not have a mcdonald 's , a xxunk store , a statue of a man on a horse , nor even a dam close by . \\n even if you can ignore these somewhat xxunk lies ( even though the dam is crucial to hard xxunk plot ) ; there is still a bunch of things that just don\u0012t gel . \\n firstly , morgan freeman</th>\n",
       "  </tr>\n",
       "  <tr>\n",
       "    <th>2</th>\n",
       "    <th>, it had the big battle scene at the end , but the only excitement felt was that the movie might be nearing a conclusion . \\n never too soon , the movie did conclude in a very simple , disappointing way . \\n even though it 's one of the shorter movies i 've seen this year , it 's one that i would definitely not want to subject myself to sitting thru again . \\n like i said , the special effects are the only reason that this film should have any sense</th>\n",
       "  </tr>\n",
       "  <tr>\n",
       "    <th>3</th>\n",
       "    <th>the pivotal role of kaisa . \\n if lena headey were a stronger actress , perhaps aberdeen could have been able to coast on the performances and moody , haunting cinematography ( rendering norway into its own xxunk ghost world -- the reference to a certain superior american indie flick intentional ) . \\n headey 's too busy acting , using her face and xxunk brow to convey every last xxunk of xxunk . \\n if she were paying any attention to skarsg ? rd , maybe she 'd figure out that doing less can</th>\n",
       "  </tr>\n",
       "  <tr>\n",
       "    <th>4</th>\n",
       "    <th>paul xxunk ) , brings them through some of the creepier parts of the former asylum . \\n but , a job is a job and , if they finish in a week , as promised , there is a $ 1 xxrep 4 0 bonus in store . \\n as they get down to their work , things , normal and not so normal , begin to happen . \\n gordon hears a xxunk voice xxunk him . \\n phil ( david caruso ) is conflicted working with a guy , hank ( josh</th>\n",
       "  </tr>\n",
       "  <tr>\n",
       "    <th>5</th>\n",
       "    <th>lord could not live up to the kind of buzz ( which is far too weak a word ) that star wars xxunk i : the phantom menace so effortlessly generated . \\n but that does not mean that the film itself is bad . \\n in fact , it is terrific . \\n i strongly suspect that many of the people who were xxunk by it have simply xxunk to the media machine and the inevitable backlash . \\n it is set some decades before the events of the original 1977 star wars took</th>\n",
       "  </tr>\n",
       "  <tr>\n",
       "    <th>6</th>\n",
       "    <th>can envision the board of xxunk , licking their chops at this coup and counting the days until their goal of \" a film by \" is attained . ) \\n and , much like mr . tarantino 's screenwriting , mr . williamson 's work is vaguely unconventional , incorporating both contemporary pop culture references and allusions to other films into the dialogue of his characters . \\n in scream , they xxunk discussed other horror films ; here in the sequel , the characters discuss the relative merits of film sequels . \\n</th>\n",
       "  </tr>\n",
       "  <tr>\n",
       "    <th>7</th>\n",
       "    <th>his pants . \\n the dialogue consists of nothing but one - liners , and consequently the attempts at character development are embarrassing . \\n it 's a shame because with a xxunk screenplay , russell and stallone could have turned tango & cash into a charming \" lethal xxunk \" adventure . \\n tango & cash tries to maintain a light tone , and you do laugh about once every five minutes . \\n seeing russell in drag is the movie 's funniest moment , but you probably already have seen it in the</th>\n",
       "  </tr>\n",
       "  <tr>\n",
       "    <th>8</th>\n",
       "    <th>he was on letterman not too long ago ) . \\n but the guy makes worse films than reagan did . \\n so what 's the plot of this shit - xxunk ? \\n well . . . something \\n about him trying to catch a stupid - ass crook ( william forsythe ) who shot and killed his partner in broad daylight . \\n i could n't believe how bad this scene was - the guy was conveniently with his family so we get the maximum emotional effect ( ahem ! ) . \\n</th>\n",
       "  </tr>\n",
       "  <tr>\n",
       "    <th>9</th>\n",
       "    <th>film , contrasting the calm , well off existence of the lake against the gambling city of reno . \\n  \" the deep end \" is a complex story of xxunk deeds and shifting relationships . \\n take the plunge . \\n xxfld 1 a slight romantic comedy with a feminist bent , but one with no edge to it . \\n it turns out to be a conventional film filled with the usual clich ? s and stock characters of this genre . \\n though it 's a well - written and well -</th>\n",
       "  </tr>\n",
       "</table>\n"
      ],
      "text/plain": [
       "<IPython.core.display.HTML object>"
      ]
     },
     "metadata": {},
     "output_type": "display_data"
    }
   ],
   "source": [
    "data_lm.show_batch()"
   ]
  },
  {
   "cell_type": "code",
   "execution_count": 38,
   "metadata": {
    "ExecuteTime": {
     "end_time": "2018-11-18T04:55:03.006478Z",
     "start_time": "2018-11-18T04:54:59.425092Z"
    }
   },
   "outputs": [],
   "source": [
    "learn = language_model_learner(data_lm, drop_mult=0.3, pretrained_model=URLs.WT103)"
   ]
  },
  {
   "cell_type": "code",
   "execution_count": 39,
   "metadata": {
    "ExecuteTime": {
     "end_time": "2018-11-18T04:55:21.413045Z",
     "start_time": "2018-11-18T04:55:08.562915Z"
    }
   },
   "outputs": [
    {
     "name": "stdout",
     "output_type": "stream",
     "text": [
      "LR Finder complete, type {learner_name}.recorder.plot() to see the graph.\n"
     ]
    }
   ],
   "source": [
    "learn.lr_find()"
   ]
  },
  {
   "cell_type": "code",
   "execution_count": 42,
   "metadata": {
    "ExecuteTime": {
     "end_time": "2018-11-18T04:55:33.663887Z",
     "start_time": "2018-11-18T04:55:33.321427Z"
    }
   },
   "outputs": [
    {
     "data": {
      "image/png": "[encoded data removed]",
      "text/plain": [
       "<Figure size 432x288 with 1 Axes>"
      ]
     },
     "metadata": {},
     "output_type": "display_data"
    }
   ],
   "source": [
    "learn.recorder.plot(skip_end=15)"
   ]
  },
  {
   "cell_type": "code",
   "execution_count": 43,
   "metadata": {
    "ExecuteTime": {
     "end_time": "2018-11-18T04:55:48.071477Z",
     "start_time": "2018-11-18T04:55:48.050502Z"
    }
   },
   "outputs": [],
   "source": [
    "lr = 2e-2"
   ]
  },
  {
   "cell_type": "code",
   "execution_count": 44,
   "metadata": {
    "ExecuteTime": {
     "end_time": "2018-11-18T04:56:44.275599Z",
     "start_time": "2018-11-18T04:56:06.601289Z"
    }
   },
   "outputs": [
    {
     "name": "stdout",
     "output_type": "stream",
     "text": [
      "Total time: 00:37\n",
      "epoch  train_loss  valid_loss  accuracy\n",
      "1      4.562715    4.269391    0.281617  (00:37)\n",
      "\n"
     ]
    }
   ],
   "source": [
    "learn.fit_one_cycle(1, lr, moms=(0.8, 0.7))"
   ]
  },
  {
   "cell_type": "code",
   "execution_count": 45,
   "metadata": {
    "ExecuteTime": {
     "end_time": "2018-11-18T04:56:44.418795Z",
     "start_time": "2018-11-18T04:56:44.277411Z"
    }
   },
   "outputs": [],
   "source": [
    "learn.save('fit_head')"
   ]
  },
  {
   "cell_type": "code",
   "execution_count": null,
   "metadata": {},
   "outputs": [],
   "source": [
    "learn.load('fit_head')"
   ]
  },
  {
   "cell_type": "code",
   "execution_count": 46,
   "metadata": {
    "ExecuteTime": {
     "end_time": "2018-11-18T04:56:50.009076Z",
     "start_time": "2018-11-18T04:56:49.990447Z"
    }
   },
   "outputs": [],
   "source": [
    "learn.unfreeze()"
   ]
  },
  {
   "cell_type": "code",
   "execution_count": 47,
   "metadata": {
    "ExecuteTime": {
     "end_time": "2018-11-18T05:04:49.010129Z",
     "start_time": "2018-11-18T04:57:22.861639Z"
    }
   },
   "outputs": [
    {
     "name": "stdout",
     "output_type": "stream",
     "text": [
      "Total time: 07:26\n",
      "epoch  train_loss  valid_loss  accuracy\n",
      "1      4.169057    4.190747    0.289064  (00:44)\n",
      "2      4.067305    4.131121    0.295619  (00:44)\n",
      "3      3.974399    4.092180    0.299714  (00:44)\n",
      "4      3.889253    4.057860    0.303651  (00:44)\n",
      "5      3.750151    4.042715    0.305062  (00:44)\n",
      "6      3.646851    4.038868    0.305813  (00:44)\n",
      "7      3.567274    4.039391    0.306587  (00:45)\n",
      "8      3.504038    4.046198    0.306422  (00:44)\n",
      "9      3.423318    4.053157    0.306132  (00:44)\n",
      "10     3.404336    4.054321    0.306056  (00:44)\n",
      "\n"
     ]
    }
   ],
   "source": [
    "learn.fit_one_cycle(10, 1e-3, moms=(0.8, 0.7))"
   ]
  },
  {
   "cell_type": "code",
   "execution_count": 48,
   "metadata": {
    "ExecuteTime": {
     "end_time": "2018-11-18T05:05:26.933226Z",
     "start_time": "2018-11-18T05:05:26.765359Z"
    }
   },
   "outputs": [],
   "source": [
    "learn.save('fine_tuned')"
   ]
  },
  {
   "cell_type": "code",
   "execution_count": null,
   "metadata": {},
   "outputs": [],
   "source": [
    "learn.load('fine_tuned')"
   ]
  },
  {
   "cell_type": "code",
   "execution_count": 49,
   "metadata": {
    "ExecuteTime": {
     "end_time": "2018-11-18T05:05:48.751538Z",
     "start_time": "2018-11-18T05:05:48.585687Z"
    }
   },
   "outputs": [],
   "source": [
    "learn.save_encoder('fine_tuned_enc')"
   ]
  },
  {
   "cell_type": "code",
   "execution_count": 50,
   "metadata": {
    "ExecuteTime": {
     "end_time": "2018-11-18T05:07:55.492212Z",
     "start_time": "2018-11-18T05:07:49.704792Z"
    }
   },
   "outputs": [],
   "source": [
    "data = (TextFileList.from_folder(path)\n",
    "       .label_from_folder(classes=['neg', 'pos'])\n",
    "       .random_split_by_pct(0.2)\n",
    "       .datasets()\n",
    "       .tokenize()\n",
    "       .numericalize(vocab=data_lm.vocab)\n",
    "       .databunch(TextDataBunch, bs=50))\n",
    "\n",
    "data.save('tmp_class')"
   ]
  },
  {
   "cell_type": "code",
   "execution_count": 52,
   "metadata": {
    "ExecuteTime": {
     "end_time": "2018-11-18T05:08:48.829108Z",
     "start_time": "2018-11-18T05:08:48.725279Z"
    }
   },
   "outputs": [],
   "source": [
    "data_clas = TextClasDataBunch.load(path, 'tmp_class', bs=50)"
   ]
  },
  {
   "cell_type": "code",
   "execution_count": 53,
   "metadata": {
    "ExecuteTime": {
     "end_time": "2018-11-18T05:08:57.877225Z",
     "start_time": "2018-11-18T05:08:57.850087Z"
    }
   },
   "outputs": [
    {
     "data": {
      "text/html": [
       "<table>  <col width='90%'>  <col width='10%'>  <tr>\n",
       "    <th>text</th>\n",
       "    <th>label</th>\n",
       "  </tr>\n",
       "  <tr>\n",
       "    <th>xxfld 1 note : some may consider portions of the following text to be spoilers . \\n be forewarned . \\n like its own opening shot , from out of the darkness boogie nights xxunk explodes upon the film scene with stunning authority and clarity , xxunk xxunk its helmer paul thomas anderson as a xxunk major talent . \\n a sprawling epic set in the heart of the disco era and focused upon the xxunk and decline of a troupe in the adult film industry , boogie nights is an astonishingly ambitious feature film which is completely effective both</th>\n",
       "    <th>pos</th>\n",
       "  </tr>\n",
       "  <tr>\n",
       "    <th>xxfld 1 \" say , any of you know how to madison ? \" \\n --- brad \" asshole \" majors ( barry xxunk ) shows just how xxunk he is after watching the kooky xxunk wrap up their ode to the time xxunk in the cult classic the rocky horror picture show . \\n the story behind the rocky horror picture show is one of legend . \\n in the early 70 's , stage actor turned first - time playwright richard xxunk decided he wanted to make a musical homage to the crazy b - movies he had</th>\n",
       "    <th>pos</th>\n",
       "  </tr>\n",
       "  <tr>\n",
       "    <th>xxfld 1 i remember seeing the trailer of the black cauldron on the pinocchio video . \\n it really scared me , and i did n't want to go see it . \\n however , after i heard about how wonderful it was , i wanted to see it . \\n i did n't get a chance to do so , until now . \\n the film , disney 's 25th animated feature , opens with a menacing shot of a great black cauldron xxunk by mist as a narrator begins to tell the tale : a long time ago</th>\n",
       "    <th>pos</th>\n",
       "  </tr>\n",
       "  <tr>\n",
       "    <th>xxfld 1 natural born killers is really a very simple story that , in essence , has already been told in bonnie & clyde with some major variations in emphasis , mood and degree . \\n both films xxunk \" outlaws , \" in one case bank robbers and killers and in the other mass murderers . \\n both relate the story of a couple liberated by love . \\n but where bonnie & clyde was partial and subtle , natural born killers is total and blatant . \\n where bonnie & clyde was social , natural born killers is</th>\n",
       "    <th>pos</th>\n",
       "  </tr>\n",
       "  <tr>\n",
       "    <th>xxfld 1 * * * the following review contains spoilers * * * \\n  \" it 's just . . . \\n the way . . . \\n we are . \" \\n --- a rapist ( matt xxunk ) responds to supergirl 's ( helen slater ) xxunk as to why she 's being attacked , an example of the mind - numbingly bad dialogue in supergirl . \\n i 'll admit it . . . \\n i love superman iii . \\n i know it 's hated amongst the superman faithful who dismiss it as nothing more than</th>\n",
       "    <th>neg</th>\n",
       "  </tr>\n",
       "  <tr>\n",
       "    <th>xxfld 1 the above is dialogue from this film , taken almost completely in context , and not xxunk up a bit to make it more inept than it is . \\n it is spoken between two of the protagonists somewhere in the film , and basically serves as a perfect example of what this film is about , especially if you realize that this exchange is meant to be taken seriously . \\n mr . gregg \" i'm - having - a - mid - life - crisis \" araki , the writer and director of this film ,</th>\n",
       "    <th>neg</th>\n",
       "  </tr>\n",
       "  <tr>\n",
       "    <th>xxfld 1 most people fit into two different categories : you either love woody allen , or you hate his guts . \\n my family , for the most part , hates him and his movies . \\n i think he 's very funny , but his shtick has gotten forced and contrived over the years . \\n so maybe taking his body away was the best decision any producer could have thought of . \\n unrestrained by physical boundaries , allen 's humor comes shining through . \\n those who had problems with his physical appearance will be able</th>\n",
       "    <th>pos</th>\n",
       "  </tr>\n",
       "  <tr>\n",
       "    <th>xxfld 1 star wars : episode 1 - the phantom menace ( 1999 ) \\n review by matt xxunk \\n few movies evoke nostalgia , enthusiasm , and affection like george lucas ' 1977 classic , star wars . \\n the original blockbuster film and its two sequels not only evoked wonder and passion in a generation of filmgoers , but has deeply entrenched itself in american pop culture . \\n arguably , more americans today can explain what \" the force \" or a \" jedi \" is than a budget deficit or a xxunk . \\n so 22</th>\n",
       "    <th>pos</th>\n",
       "  </tr>\n",
       "  <tr>\n",
       "    <th>xxfld 1 warning : spoilers are included in this review . . . \\n but it does n't really make much of a difference . \\n deep impact begins the official summer movie season , and it also brings back memories of 1997 . \\n remember when dante 's peak came out in february ? \\n a few months later , volcano was released . \\n the first film was smart , xxunk , and one of the best disaster films i had ever seen . \\n the latter film was an xxunk mess that defied logic and wasted talent</th>\n",
       "    <th>neg</th>\n",
       "  </tr>\n",
       "  <tr>\n",
       "    <th>xxfld 1 as much as i wanted to like this film as i went into it , the more pleased i was when i left . \\n first , getting through all the usual lines of newspaper glitz : \" if you liked scream , you 'll love wild things ! \" \\n  \" campbell gives a stunning performance ! \" \\n  \" this twisty plot will have you xxunk for days ! \" \\n  ( oh yeah , the day a newspaper uses these is the day neve campbell falls in love with me ) \\n now , onto</th>\n",
       "    <th>pos</th>\n",
       "  </tr>\n",
       "</table>\n"
      ],
      "text/plain": [
       "<IPython.core.display.HTML object>"
      ]
     },
     "metadata": {},
     "output_type": "display_data"
    }
   ],
   "source": [
    "data_clas.show_batch()"
   ]
  },
  {
   "cell_type": "code",
   "execution_count": 54,
   "metadata": {
    "ExecuteTime": {
     "end_time": "2018-11-18T05:09:24.499655Z",
     "start_time": "2018-11-18T05:09:24.162626Z"
    }
   },
   "outputs": [],
   "source": [
    "learn = text_classifier_learner(data_clas, drop_mult=0.5)"
   ]
  },
  {
   "cell_type": "code",
   "execution_count": 55,
   "metadata": {
    "ExecuteTime": {
     "end_time": "2018-11-18T05:09:38.030838Z",
     "start_time": "2018-11-18T05:09:37.871432Z"
    }
   },
   "outputs": [],
   "source": [
    "learn.load_encoder('fine_tuned_enc')"
   ]
  },
  {
   "cell_type": "code",
   "execution_count": 56,
   "metadata": {
    "ExecuteTime": {
     "end_time": "2018-11-18T05:09:43.411579Z",
     "start_time": "2018-11-18T05:09:43.389169Z"
    }
   },
   "outputs": [],
   "source": [
    "learn.freeze()"
   ]
  },
  {
   "cell_type": "code",
   "execution_count": 57,
   "metadata": {
    "ExecuteTime": {
     "end_time": "2018-11-18T05:10:35.791284Z",
     "start_time": "2018-11-18T05:09:59.821943Z"
    }
   },
   "outputs": [
    {
     "name": "stdout",
     "output_type": "stream",
     "text": [
      "LR Finder complete, type {learner_name}.recorder.plot() to see the graph.\n"
     ]
    },
    {
     "data": {
      "image/png": "[encoded data removed]",
      "text/plain": [
       "<Figure size 432x288 with 1 Axes>"
      ]
     },
     "metadata": {},
     "output_type": "display_data"
    }
   ],
   "source": [
    "learn.lr_find()\n",
    "learn.recorder.plot(skip_end=15)"
   ]
  },
  {
   "cell_type": "code",
   "execution_count": 58,
   "metadata": {
    "ExecuteTime": {
     "end_time": "2018-11-18T05:10:44.782128Z",
     "start_time": "2018-11-18T05:10:44.453688Z"
    }
   },
   "outputs": [
    {
     "data": {
      "image/png": "[encoded data removed]",
      "text/plain": [
       "<Figure size 432x288 with 1 Axes>"
      ]
     },
     "metadata": {},
     "output_type": "display_data"
    }
   ],
   "source": [
    "learn.recorder.plot()"
   ]
  },
  {
   "cell_type": "code",
   "execution_count": 59,
   "metadata": {
    "ExecuteTime": {
     "end_time": "2018-11-18T05:10:51.858278Z",
     "start_time": "2018-11-18T05:10:51.837623Z"
    }
   },
   "outputs": [],
   "source": [
    "lr = 1e-2"
   ]
  },
  {
   "cell_type": "code",
   "execution_count": 60,
   "metadata": {
    "ExecuteTime": {
     "end_time": "2018-11-18T05:11:41.910747Z",
     "start_time": "2018-11-18T05:11:14.779804Z"
    }
   },
   "outputs": [
    {
     "name": "stdout",
     "output_type": "stream",
     "text": [
      "Total time: 00:27\n",
      "epoch  train_loss  valid_loss  accuracy\n",
      "1      0.551143    0.460867    0.805000  (00:27)\n",
      "\n"
     ]
    }
   ],
   "source": [
    "learn.fit_one_cycle(1, lr, moms=(0.8, 0.7))"
   ]
  },
  {
   "cell_type": "code",
   "execution_count": 61,
   "metadata": {
    "ExecuteTime": {
     "end_time": "2018-11-18T05:11:54.769103Z",
     "start_time": "2018-11-18T05:11:54.588693Z"
    }
   },
   "outputs": [],
   "source": [
    "learn.save('first')"
   ]
  },
  {
   "cell_type": "code",
   "execution_count": 62,
   "metadata": {
    "ExecuteTime": {
     "end_time": "2018-11-18T05:12:49.177504Z",
     "start_time": "2018-11-18T05:12:17.088996Z"
    }
   },
   "outputs": [
    {
     "name": "stdout",
     "output_type": "stream",
     "text": [
      "Total time: 00:32\n",
      "epoch  train_loss  valid_loss  accuracy\n",
      "1      0.489577    0.369715    0.847500  (00:32)\n",
      "\n"
     ]
    }
   ],
   "source": [
    "learn.freeze_to(-2)\n",
    "learn.fit_one_cycle(1, slice(1e-2/(2.6**4),1e-2), moms=(0.8,0.7))"
   ]
  },
  {
   "cell_type": "code",
   "execution_count": 63,
   "metadata": {
    "ExecuteTime": {
     "end_time": "2018-11-18T05:12:49.348803Z",
     "start_time": "2018-11-18T05:12:49.179568Z"
    }
   },
   "outputs": [],
   "source": [
    "learn.save('second')"
   ]
  },
  {
   "cell_type": "code",
   "execution_count": 64,
   "metadata": {
    "ExecuteTime": {
     "end_time": "2018-11-18T05:13:36.353821Z",
     "start_time": "2018-11-18T05:12:51.737221Z"
    }
   },
   "outputs": [
    {
     "name": "stdout",
     "output_type": "stream",
     "text": [
      "Total time: 00:44\n",
      "epoch  train_loss  valid_loss  accuracy\n",
      "1      0.393767    0.257797    0.905000  (00:44)\n",
      "\n"
     ]
    }
   ],
   "source": [
    "learn.freeze_to(-3)\n",
    "learn.fit_one_cycle(1, slice(5e-3/(2.6**4),5e-3), moms=(0.8,0.7))"
   ]
  },
  {
   "cell_type": "code",
   "execution_count": 65,
   "metadata": {
    "ExecuteTime": {
     "end_time": "2018-11-18T05:13:36.525221Z",
     "start_time": "2018-11-18T05:13:36.356186Z"
    }
   },
   "outputs": [],
   "source": [
    "learn.save('third')"
   ]
  },
  {
   "cell_type": "code",
   "execution_count": 66,
   "metadata": {
    "ExecuteTime": {
     "end_time": "2018-11-18T05:15:29.632656Z",
     "start_time": "2018-11-18T05:13:42.542869Z"
    }
   },
   "outputs": [
    {
     "name": "stdout",
     "output_type": "stream",
     "text": [
      "Total time: 01:47\n",
      "epoch  train_loss  valid_loss  accuracy\n",
      "1      0.327039    0.254392    0.900000  (00:53)\n",
      "2      0.313264    0.250191    0.887500  (00:53)\n",
      "\n"
     ]
    }
   ],
   "source": [
    "learn.unfreeze()\n",
    "learn.fit_one_cycle(2, slice(1e-3/(2.6**4),1e-3), moms=(0.8,0.7))"
   ]
  },
  {
   "cell_type": "code",
   "execution_count": 67,
   "metadata": {
    "ExecuteTime": {
     "end_time": "2018-11-18T05:15:29.806604Z",
     "start_time": "2018-11-18T05:15:29.634673Z"
    }
   },
   "outputs": [],
   "source": [
    "learn.save('final')"
   ]
  },
  {
   "cell_type": "code",
   "execution_count": 69,
   "metadata": {
    "ExecuteTime": {
     "end_time": "2018-11-18T05:21:53.518780Z",
     "start_time": "2018-11-18T05:18:19.404318Z"
    }
   },
   "outputs": [
    {
     "name": "stdout",
     "output_type": "stream",
     "text": [
      "Total time: 03:34\n",
      "epoch  train_loss  valid_loss  accuracy\n",
      "1      0.297355    0.256763    0.882500  (00:53)\n",
      "2      0.305369    0.221603    0.910000  (00:53)\n",
      "3      0.280774    0.232907    0.892500  (00:53)\n",
      "4      0.269057    0.211715    0.905000  (00:53)\n",
      "\n"
     ]
    }
   ],
   "source": [
    "learn.fit_one_cycle(4, slice(1e-3/(2.6**4),1e-3), moms=(0.8,0.7))"
   ]
  },
  {
   "cell_type": "code",
   "execution_count": 70,
   "metadata": {
    "ExecuteTime": {
     "end_time": "2018-11-18T05:22:08.814173Z",
     "start_time": "2018-11-18T05:22:08.644621Z"
    }
   },
   "outputs": [],
   "source": [
    "learn.save('final_plus_4')"
   ]
  }
 ],
 "metadata": {
  "kernelspec": {
   "display_name": "Python 3",
   "language": "python",
   "name": "python3"
  },
  "language_info": {
   "codemirror_mode": {
    "name": "ipython",
    "version": 3
   },
   "file_extension": ".py",
   "mimetype": "text/x-python",
   "name": "python",
   "nbconvert_exporter": "python",
   "pygments_lexer": "ipython3",
   "version": "3.6.6"
  }
 },
 "nbformat": 4,
 "nbformat_minor": 2
}
