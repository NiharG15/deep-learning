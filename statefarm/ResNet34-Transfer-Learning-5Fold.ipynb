{
 "cells": [
  {
   "cell_type": "markdown",
   "metadata": {},
   "source": [
    "## State Farm Distracted Driver Detection"
   ]
  },
  {
   "cell_type": "markdown",
   "metadata": {},
   "source": [
    "### Imports"
   ]
  },
  {
   "cell_type": "code",
   "execution_count": 1,
   "metadata": {
    "ExecuteTime": {
     "end_time": "2019-01-10T06:24:32.110773Z",
     "start_time": "2019-01-10T06:24:02.021258Z"
    }
   },
   "outputs": [],
   "source": [
    "import fastai\n",
    "from fastai.vision import *\n",
    "from fastai.callbacks import *"
   ]
  },
  {
   "cell_type": "code",
   "execution_count": 2,
   "metadata": {
    "ExecuteTime": {
     "end_time": "2019-01-10T06:24:32.114806Z",
     "start_time": "2019-01-10T06:24:32.112434Z"
    }
   },
   "outputs": [],
   "source": [
    "from fastai import *"
   ]
  },
  {
   "cell_type": "code",
   "execution_count": 3,
   "metadata": {
    "ExecuteTime": {
     "end_time": "2019-01-10T06:24:32.169555Z",
     "start_time": "2019-01-10T06:24:32.116138Z"
    }
   },
   "outputs": [],
   "source": [
    "from tqdm import tqdm_notebook"
   ]
  },
  {
   "cell_type": "code",
   "execution_count": 4,
   "metadata": {
    "ExecuteTime": {
     "end_time": "2019-01-10T06:24:32.754315Z",
     "start_time": "2019-01-10T06:24:32.171016Z"
    }
   },
   "outputs": [
    {
     "name": "stderr",
     "output_type": "stream",
     "text": [
      "/home/nihargajre/miniconda3/envs/fastai/lib/python3.6/site-packages/sklearn/cross_validation.py:41: DeprecationWarning: This module was deprecated in version 0.18 in favor of the model_selection module into which all the refactored classes and functions are moved. Also note that the interface of the new CV iterators are different from that of this module. This module will be removed in 0.20.\n",
      "  \"This module will be removed in 0.20.\", DeprecationWarning)\n"
     ]
    }
   ],
   "source": [
    "from sklearn.cross_validation import KFold"
   ]
  },
  {
   "cell_type": "code",
   "execution_count": 5,
   "metadata": {
    "ExecuteTime": {
     "end_time": "2019-01-10T06:24:32.794300Z",
     "start_time": "2019-01-10T06:24:32.755783Z"
    }
   },
   "outputs": [],
   "source": [
    "%matplotlib inline"
   ]
  },
  {
   "cell_type": "markdown",
   "metadata": {},
   "source": [
    "### Look at the Data"
   ]
  },
  {
   "cell_type": "code",
   "execution_count": 6,
   "metadata": {
    "ExecuteTime": {
     "end_time": "2019-01-10T06:24:33.014510Z",
     "start_time": "2019-01-10T06:24:32.795797Z"
    }
   },
   "outputs": [],
   "source": [
    "df = pd.read_csv('driver_imgs_list.csv')"
   ]
  },
  {
   "cell_type": "code",
   "execution_count": 7,
   "metadata": {
    "ExecuteTime": {
     "end_time": "2019-01-10T06:24:42.172030Z",
     "start_time": "2019-01-10T06:24:42.070108Z"
    }
   },
   "outputs": [
    {
     "data": {
      "text/html": [
       "<div>\n",
       "<style scoped>\n",
       "    .dataframe tbody tr th:only-of-type {\n",
       "        vertical-align: middle;\n",
       "    }\n",
       "\n",
       "    .dataframe tbody tr th {\n",
       "        vertical-align: top;\n",
       "    }\n",
       "\n",
       "    .dataframe thead th {\n",
       "        text-align: right;\n",
       "    }\n",
       "</style>\n",
       "<table border=\"1\" class=\"dataframe\">\n",
       "  <thead>\n",
       "    <tr style=\"text-align: right;\">\n",
       "      <th></th>\n",
       "      <th>subject</th>\n",
       "      <th>classname</th>\n",
       "      <th>img</th>\n",
       "    </tr>\n",
       "  </thead>\n",
       "  <tbody>\n",
       "    <tr>\n",
       "      <th>0</th>\n",
       "      <td>p002</td>\n",
       "      <td>c0</td>\n",
       "      <td>img_44733.jpg</td>\n",
       "    </tr>\n",
       "    <tr>\n",
       "      <th>1</th>\n",
       "      <td>p002</td>\n",
       "      <td>c0</td>\n",
       "      <td>img_72999.jpg</td>\n",
       "    </tr>\n",
       "    <tr>\n",
       "      <th>2</th>\n",
       "      <td>p002</td>\n",
       "      <td>c0</td>\n",
       "      <td>img_25094.jpg</td>\n",
       "    </tr>\n",
       "    <tr>\n",
       "      <th>3</th>\n",
       "      <td>p002</td>\n",
       "      <td>c0</td>\n",
       "      <td>img_69092.jpg</td>\n",
       "    </tr>\n",
       "    <tr>\n",
       "      <th>4</th>\n",
       "      <td>p002</td>\n",
       "      <td>c0</td>\n",
       "      <td>img_92629.jpg</td>\n",
       "    </tr>\n",
       "  </tbody>\n",
       "</table>\n",
       "</div>"
      ],
      "text/plain": [
       "  subject classname            img\n",
       "0    p002        c0  img_44733.jpg\n",
       "1    p002        c0  img_72999.jpg\n",
       "2    p002        c0  img_25094.jpg\n",
       "3    p002        c0  img_69092.jpg\n",
       "4    p002        c0  img_92629.jpg"
      ]
     },
     "execution_count": 7,
     "metadata": {},
     "output_type": "execute_result"
    }
   ],
   "source": [
    "df.head()"
   ]
  },
  {
   "cell_type": "code",
   "execution_count": 8,
   "metadata": {
    "ExecuteTime": {
     "end_time": "2019-01-10T06:24:47.745156Z",
     "start_time": "2019-01-10T06:24:47.602668Z"
    }
   },
   "outputs": [
    {
     "name": "stdout",
     "output_type": "stream",
     "text": [
      "c0\r\n",
      "c1\r\n",
      "c2\r\n",
      "c3\r\n",
      "c4\r\n",
      "c5\r\n",
      "c6\r\n",
      "c7\r\n",
      "c8\r\n",
      "c9\r\n"
     ]
    }
   ],
   "source": [
    "!ls train/ | head -n 10"
   ]
  },
  {
   "cell_type": "code",
   "execution_count": 9,
   "metadata": {
    "ExecuteTime": {
     "end_time": "2019-01-10T06:24:48.709335Z",
     "start_time": "2019-01-10T06:24:47.746744Z"
    }
   },
   "outputs": [
    {
     "name": "stdout",
     "output_type": "stream",
     "text": [
      "img_100000.jpg\r\n",
      "img_100001.jpg\r\n",
      "img_100002.jpg\r\n",
      "img_100003.jpg\r\n",
      "img_100004.jpg\r\n",
      "img_100005.jpg\r\n",
      "img_100007.jpg\r\n",
      "img_100008.jpg\r\n",
      "img_100009.jpg\r\n",
      "img_100010.jpg\r\n",
      "ls: write error: Broken pipe\r\n"
     ]
    }
   ],
   "source": [
    "!ls test/ | head -n 10"
   ]
  },
  {
   "cell_type": "code",
   "execution_count": 10,
   "metadata": {
    "ExecuteTime": {
     "end_time": "2019-01-10T06:24:53.167243Z",
     "start_time": "2019-01-10T06:24:52.194421Z"
    }
   },
   "outputs": [
    {
     "data": {
      "text/plain": [
       "<matplotlib.axes._subplots.AxesSubplot at 0x7f8440baff28>"
      ]
     },
     "execution_count": 10,
     "metadata": {},
     "output_type": "execute_result"
    },
    {
     "data": {
      "image/png": "[encoded data removed]",
      "text/plain": [
       "<Figure size 432x288 with 1 Axes>"
      ]
     },
     "metadata": {},
     "output_type": "display_data"
    }
   ],
   "source": [
    "df['classname'].value_counts().plot(kind='bar')"
   ]
  },
  {
   "cell_type": "code",
   "execution_count": 11,
   "metadata": {
    "ExecuteTime": {
     "end_time": "2019-01-10T06:24:53.347576Z",
     "start_time": "2019-01-10T06:24:53.168790Z"
    }
   },
   "outputs": [
    {
     "data": {
      "text/plain": [
       "<matplotlib.axes._subplots.AxesSubplot at 0x7f84402bdd30>"
      ]
     },
     "execution_count": 11,
     "metadata": {},
     "output_type": "execute_result"
    },
    {
     "data": {
      "image/png": "[encoded data removed]",
      "text/plain": [
       "<Figure size 432x288 with 1 Axes>"
      ]
     },
     "metadata": {},
     "output_type": "display_data"
    }
   ],
   "source": [
    "df['subject'].value_counts().plot(kind='bar')"
   ]
  },
  {
   "cell_type": "code",
   "execution_count": 12,
   "metadata": {
    "ExecuteTime": {
     "end_time": "2019-01-10T06:24:58.795703Z",
     "start_time": "2019-01-10T06:24:58.789950Z"
    }
   },
   "outputs": [
    {
     "data": {
      "text/plain": [
       "array(['p002', 'p012', 'p014', 'p015', 'p016', 'p021', 'p022', 'p024', 'p026', 'p035', 'p039', 'p041', 'p042', 'p045',\n",
       "       'p047', 'p049', 'p050', 'p051', 'p052', 'p056', 'p061', 'p064', 'p066', 'p072', 'p075', 'p081'], dtype=object)"
      ]
     },
     "execution_count": 12,
     "metadata": {},
     "output_type": "execute_result"
    }
   ],
   "source": [
    "drivers = pd.unique(df.subject)\n",
    "drivers"
   ]
  },
  {
   "cell_type": "code",
   "execution_count": 13,
   "metadata": {
    "ExecuteTime": {
     "end_time": "2019-01-10T06:24:58.841572Z",
     "start_time": "2019-01-10T06:24:58.797640Z"
    }
   },
   "outputs": [
    {
     "data": {
      "text/plain": [
       "<torch._C.Generator at 0x7f8449660250>"
      ]
     },
     "execution_count": 13,
     "metadata": {},
     "output_type": "execute_result"
    }
   ],
   "source": [
    "# Reproducibility\n",
    "\n",
    "np.random.seed(42)\n",
    "torch.manual_seed(42)"
   ]
  },
  {
   "cell_type": "markdown",
   "metadata": {},
   "source": [
    "According to the rules of the competition, drivers appear either in train set or test set. So we create validation set with a subset of drivers to better represent the real test set."
   ]
  },
  {
   "cell_type": "code",
   "execution_count": 14,
   "metadata": {
    "ExecuteTime": {
     "end_time": "2019-01-10T06:24:58.892287Z",
     "start_time": "2019-01-10T06:24:58.843366Z"
    }
   },
   "outputs": [
    {
     "data": {
      "text/plain": [
       "array([1, 4, 2, 0, 3])"
      ]
     },
     "execution_count": 14,
     "metadata": {},
     "output_type": "execute_result"
    }
   ],
   "source": [
    "valid_drivers = np.random.permutation(int(len(drivers) * 0.20))\n",
    "valid_drivers"
   ]
  },
  {
   "cell_type": "code",
   "execution_count": 15,
   "metadata": {
    "ExecuteTime": {
     "end_time": "2019-01-10T06:24:58.898128Z",
     "start_time": "2019-01-10T06:24:58.894418Z"
    }
   },
   "outputs": [
    {
     "data": {
      "text/plain": [
       "array(['p002', 'p012', 'p014', 'p015', 'p016', 'p021', 'p022', 'p024', 'p026', 'p035', 'p039', 'p041', 'p042', 'p045',\n",
       "       'p047', 'p049', 'p050', 'p051', 'p052', 'p056', 'p061', 'p064', 'p066', 'p072', 'p075', 'p081'], dtype=object)"
      ]
     },
     "execution_count": 15,
     "metadata": {},
     "output_type": "execute_result"
    }
   ],
   "source": [
    "drivers"
   ]
  },
  {
   "cell_type": "markdown",
   "metadata": {},
   "source": [
    "### Cross Validation Across Drivers"
   ]
  },
  {
   "cell_type": "markdown",
   "metadata": {},
   "source": [
    "Divide training and validation data according to drivers to mirror the test set."
   ]
  },
  {
   "cell_type": "code",
   "execution_count": 17,
   "metadata": {
    "ExecuteTime": {
     "end_time": "2019-01-10T06:25:06.630300Z",
     "start_time": "2019-01-10T06:25:06.627609Z"
    }
   },
   "outputs": [],
   "source": [
    "k = KFold(len(drivers), n_folds=5, shuffle=True, random_state=38)"
   ]
  },
  {
   "cell_type": "code",
   "execution_count": 18,
   "metadata": {
    "ExecuteTime": {
     "end_time": "2019-01-10T06:25:07.863721Z",
     "start_time": "2019-01-10T06:25:07.859410Z"
    }
   },
   "outputs": [
    {
     "name": "stdout",
     "output_type": "stream",
     "text": [
      "[ 0  1  2  3  4  7  9 10 11 13 15 16 18 19 20 21 22 23 24 25] [ 5  6  8 12 14 17]\n",
      "[ 1  2  3  4  5  6  8 10 11 12 13 14 15 16 17 18 19 21 22 23 25] [ 0  7  9 20 24]\n",
      "[ 0  1  2  4  5  6  7  8  9 10 11 12 14 16 17 19 20 21 22 24 25] [ 3 13 15 18 23]\n",
      "[ 0  1  3  4  5  6  7  8  9 11 12 13 14 15 17 18 19 20 21 23 24] [ 2 10 16 22 25]\n",
      "[ 0  2  3  5  6  7  8  9 10 12 13 14 15 16 17 18 20 22 23 24 25] [ 1  4 11 19 21]\n"
     ]
    }
   ],
   "source": [
    "for train_drivers, valid_drivers in k:\n",
    "    print(train_drivers, valid_drivers)"
   ]
  },
  {
   "cell_type": "code",
   "execution_count": 19,
   "metadata": {
    "ExecuteTime": {
     "end_time": "2019-01-10T06:25:36.429594Z",
     "start_time": "2019-01-10T06:25:36.427038Z"
    }
   },
   "outputs": [],
   "source": [
    "path = Path('~/datasets/statefarm').expanduser()"
   ]
  },
  {
   "cell_type": "code",
   "execution_count": 20,
   "metadata": {
    "ExecuteTime": {
     "end_time": "2019-01-10T06:25:41.562450Z",
     "start_time": "2019-01-10T06:25:41.558604Z"
    }
   },
   "outputs": [],
   "source": [
    "def generate_data(data_df, bs=64, size=224):\n",
    "    src = (ImageItemList.from_df(data_df, path=path, cols='img', folder='train2')\n",
    "          .split_from_df('valid')\n",
    "          .label_from_df('classname')\n",
    "          .add_test_folder())\n",
    "    data = (src.transform(get_transforms(do_flip=False, max_rotate=5.0, max_warp=0.2, max_zoom=1.10), size=size)\n",
    "           .databunch(bs=bs)\n",
    "           .normalize(imagenet_stats))\n",
    "    \n",
    "    return data"
   ]
  },
  {
   "cell_type": "code",
   "execution_count": 21,
   "metadata": {
    "ExecuteTime": {
     "end_time": "2019-01-10T06:25:44.473031Z",
     "start_time": "2019-01-10T06:25:44.469819Z"
    }
   },
   "outputs": [],
   "source": [
    "def fit_model(df, bs=64, size=224):\n",
    "    \n",
    "    arch = models.resnet34\n",
    "    \n",
    "    data = generate_data(df, bs, size)\n",
    "    \n",
    "    learner = create_cnn(data, arch, metrics=[accuracy])\n",
    "    \n",
    "    learner.fit_one_cycle(3, max_lr=1e-2)\n",
    "    \n",
    "    learner.unfreeze()\n",
    "    \n",
    "    learner.fit_one_cycle(8, max_lr=slice(1e-6, 1e-4))\n",
    "    \n",
    "    return learner"
   ]
  },
  {
   "cell_type": "code",
   "execution_count": 22,
   "metadata": {
    "ExecuteTime": {
     "end_time": "2019-01-10T09:06:44.011300Z",
     "start_time": "2019-01-10T06:25:48.379362Z"
    }
   },
   "outputs": [],
   "source": [
    "predictions = list()\n",
    "for i, (train_drivers, valid_drivers) in enumerate(k):\n",
    "    td = drivers[train_drivers]\n",
    "    vd = drivers[valid_drivers]\n",
    "    \n",
    "    df_new = df.copy()\n",
    "    \n",
    "    df_new[\"valid\"] = 0\n",
    "    df_new.loc[df_new.subject.isin(vd), \"valid\"] = 1\n",
    "    \n",
    "    learner = fit_model(df_new)\n",
    "    \n",
    "    learner.save(f'fold-{i}')\n",
    "    \n",
    "    preds, _ = learner.get_preds(ds_type=DatasetType.Test)\n",
    "    predictions.append(preds)\n",
    "    \n",
    "    gc.collect()"
   ]
  },
  {
   "cell_type": "code",
   "execution_count": 53,
   "metadata": {
    "ExecuteTime": {
     "end_time": "2019-01-10T09:21:14.167605Z",
     "start_time": "2019-01-10T09:21:14.162048Z"
    },
    "scrolled": false
   },
   "outputs": [
    {
     "data": {
      "text/plain": [
       "[tensor([[2.6252e-02, 2.7782e-02, 1.1654e-03,  ..., 7.1115e-01, 3.3468e-02,\n",
       "          1.6958e-01],\n",
       "         [9.4216e-01, 5.0808e-04, 2.1375e-04,  ..., 3.4300e-04, 3.5667e-03,\n",
       "          5.1493e-02],\n",
       "         [6.6040e-06, 5.2638e-06, 1.3310e-04,  ..., 7.1781e-05, 6.2357e-04,\n",
       "          1.4978e-05],\n",
       "         ...,\n",
       "         [2.8099e-06, 3.4191e-07, 1.5963e-04,  ..., 9.1942e-07, 1.6680e-03,\n",
       "          2.0145e-04],\n",
       "         [1.3513e-01, 8.3647e-05, 1.6916e-05,  ..., 5.3346e-05, 8.5951e-03,\n",
       "          8.4655e-01],\n",
       "         [2.7088e-05, 9.5870e-05, 9.9931e-01,  ..., 2.8607e-07, 1.6582e-04,\n",
       "          3.4434e-04]]),\n",
       " tensor([[3.3563e-01, 1.9965e-02, 6.6623e-03,  ..., 4.5122e-02, 9.1145e-02,\n",
       "          3.6529e-01],\n",
       "         [2.7579e-01, 2.2595e-05, 7.9218e-07,  ..., 1.4835e-04, 1.5501e-02,\n",
       "          7.0842e-01],\n",
       "         [5.5937e-07, 7.4180e-08, 2.7862e-06,  ..., 1.1408e-07, 2.1637e-06,\n",
       "          3.1137e-07],\n",
       "         ...,\n",
       "         [8.4757e-06, 1.5386e-07, 7.6960e-06,  ..., 2.6837e-05, 3.1266e-03,\n",
       "          1.5987e-05],\n",
       "         [3.8034e-01, 3.8748e-04, 8.7926e-05,  ..., 2.6179e-05, 1.6576e-02,\n",
       "          6.0156e-01],\n",
       "         [1.2464e-06, 4.0175e-06, 9.9749e-01,  ..., 3.4556e-06, 2.4045e-03,\n",
       "          9.8469e-06]])]"
      ]
     },
     "execution_count": 53,
     "metadata": {},
     "output_type": "execute_result"
    }
   ],
   "source": [
    "predictions[:2]"
   ]
  },
  {
   "cell_type": "markdown",
   "metadata": {},
   "source": [
    "### Generate Predictions"
   ]
  },
  {
   "cell_type": "code",
   "execution_count": 26,
   "metadata": {
    "ExecuteTime": {
     "end_time": "2019-01-10T09:13:22.173373Z",
     "start_time": "2019-01-10T09:13:22.170585Z"
    }
   },
   "outputs": [],
   "source": [
    "predictions_np = list(map(lambda x: x.numpy(), predictions))"
   ]
  },
  {
   "cell_type": "code",
   "execution_count": 51,
   "metadata": {
    "ExecuteTime": {
     "end_time": "2019-01-10T09:21:04.191614Z",
     "start_time": "2019-01-10T09:21:04.184823Z"
    }
   },
   "outputs": [
    {
     "data": {
      "text/plain": [
       "[array([[2.625153e-02, 2.778157e-02, 1.165425e-03, 5.425558e-03, ..., 6.333518e-03, 7.111509e-01, 3.346812e-02,\n",
       "         1.695812e-01],\n",
       "        [9.421552e-01, 5.080811e-04, 2.137502e-04, 1.308326e-04, ..., 6.866215e-04, 3.429972e-04, 3.566668e-03,\n",
       "         5.149271e-02],\n",
       "        [6.604005e-06, 5.263846e-06, 1.331049e-04, 2.318554e-05, ..., 2.598193e-05, 7.178071e-05, 6.235706e-04,\n",
       "         1.497801e-05],\n",
       "        [3.842815e-06, 4.331436e-09, 2.427208e-10, 1.406823e-07, ..., 1.712803e-08, 1.419062e-07, 3.421439e-07,\n",
       "         1.510377e-05],\n",
       "        ...,\n",
       "        [1.631010e-09, 3.539923e-11, 2.493509e-10, 2.183462e-09, ..., 1.739399e-10, 2.049749e-09, 3.337736e-09,\n",
       "         9.555454e-08],\n",
       "        [2.809942e-06, 3.419067e-07, 1.596317e-04, 4.498103e-07, ..., 9.979565e-01, 9.194201e-07, 1.668018e-03,\n",
       "         2.014515e-04],\n",
       "        [1.351296e-01, 8.364730e-05, 1.691603e-05, 7.800174e-03, ..., 1.018813e-03, 5.334621e-05, 8.595122e-03,\n",
       "         8.465487e-01],\n",
       "        [2.708820e-05, 9.586955e-05, 9.993120e-01, 5.480782e-07, ..., 4.141513e-05, 2.860694e-07, 1.658189e-04,\n",
       "         3.443445e-04]], dtype=float32),\n",
       " array([[3.356269e-01, 1.996460e-02, 6.662259e-03, 2.492903e-02, ..., 4.300680e-03, 4.512217e-02, 9.114464e-02,\n",
       "         3.652862e-01],\n",
       "        [2.757927e-01, 2.259455e-05, 7.921785e-07, 2.723899e-06, ..., 7.486003e-05, 1.483541e-04, 1.550105e-02,\n",
       "         7.084180e-01],\n",
       "        [5.593696e-07, 7.418012e-08, 2.786215e-06, 6.252934e-06, ..., 1.675500e-06, 1.140829e-07, 2.163734e-06,\n",
       "         3.113661e-07],\n",
       "        [6.534328e-07, 2.740166e-09, 1.034411e-09, 1.383326e-07, ..., 2.125697e-07, 8.052002e-08, 1.155721e-08,\n",
       "         2.040265e-08],\n",
       "        ...,\n",
       "        [1.629208e-08, 1.808567e-08, 1.477994e-08, 1.936518e-07, ..., 3.340417e-07, 2.290537e-07, 5.920657e-05,\n",
       "         1.829714e-05],\n",
       "        [8.475665e-06, 1.538561e-07, 7.695978e-06, 3.535839e-08, ..., 9.968084e-01, 2.683659e-05, 3.126584e-03,\n",
       "         1.598738e-05],\n",
       "        [3.803373e-01, 3.874827e-04, 8.792565e-05, 3.502411e-05, ..., 6.702805e-05, 2.617906e-05, 1.657572e-02,\n",
       "         6.015598e-01],\n",
       "        [1.246415e-06, 4.017520e-06, 9.974900e-01, 1.019818e-07, ..., 4.007481e-05, 3.455598e-06, 2.404456e-03,\n",
       "         9.846872e-06]], dtype=float32)]"
      ]
     },
     "execution_count": 51,
     "metadata": {},
     "output_type": "execute_result"
    }
   ],
   "source": [
    "predictions_np[:2]"
   ]
  },
  {
   "cell_type": "code",
   "execution_count": 29,
   "metadata": {
    "ExecuteTime": {
     "end_time": "2019-01-10T09:13:37.897823Z",
     "start_time": "2019-01-10T09:13:37.889309Z"
    }
   },
   "outputs": [
    {
     "data": {
      "text/plain": [
       "(5, 79726, 10)"
      ]
     },
     "execution_count": 29,
     "metadata": {},
     "output_type": "execute_result"
    }
   ],
   "source": [
    "np.stack(predictions_np).shape"
   ]
  },
  {
   "cell_type": "code",
   "execution_count": 30,
   "metadata": {
    "ExecuteTime": {
     "end_time": "2019-01-10T09:14:02.748605Z",
     "start_time": "2019-01-10T09:14:02.739748Z"
    }
   },
   "outputs": [],
   "source": [
    "preds_avg = np.average(np.stack(predictions_np), axis=0)"
   ]
  },
  {
   "cell_type": "code",
   "execution_count": 32,
   "metadata": {
    "ExecuteTime": {
     "end_time": "2019-01-10T09:14:12.433643Z",
     "start_time": "2019-01-10T09:14:12.429799Z"
    }
   },
   "outputs": [
    {
     "data": {
      "text/plain": [
       "(79726, 10)"
      ]
     },
     "execution_count": 32,
     "metadata": {},
     "output_type": "execute_result"
    }
   ],
   "source": [
    "preds_avg.shape"
   ]
  },
  {
   "cell_type": "code",
   "execution_count": 39,
   "metadata": {
    "ExecuteTime": {
     "end_time": "2019-01-10T09:15:02.660533Z",
     "start_time": "2019-01-10T09:15:01.990333Z"
    }
   },
   "outputs": [],
   "source": [
    "data = generate_data(df_new)"
   ]
  },
  {
   "cell_type": "code",
   "execution_count": 40,
   "metadata": {
    "ExecuteTime": {
     "end_time": "2019-01-10T09:15:03.382123Z",
     "start_time": "2019-01-10T09:15:03.378858Z"
    }
   },
   "outputs": [
    {
     "data": {
      "text/plain": [
       "array([PosixPath('/home/nihargajre/datasets/statefarm/test/img_82315.jpg'),\n",
       "       PosixPath('/home/nihargajre/datasets/statefarm/test/img_42500.jpg'),\n",
       "       PosixPath('/home/nihargajre/datasets/statefarm/test/img_73683.jpg'),\n",
       "       PosixPath('/home/nihargajre/datasets/statefarm/test/img_403.jpg'), ...,\n",
       "       PosixPath('/home/nihargajre/datasets/statefarm/test/img_39924.jpg'),\n",
       "       PosixPath('/home/nihargajre/datasets/statefarm/test/img_69461.jpg'),\n",
       "       PosixPath('/home/nihargajre/datasets/statefarm/test/img_80279.jpg'),\n",
       "       PosixPath('/home/nihargajre/datasets/statefarm/test/img_75951.jpg')], dtype=object)"
      ]
     },
     "execution_count": 40,
     "metadata": {},
     "output_type": "execute_result"
    }
   ],
   "source": [
    "data.test_ds.items"
   ]
  },
  {
   "cell_type": "code",
   "execution_count": 41,
   "metadata": {
    "ExecuteTime": {
     "end_time": "2019-01-10T09:15:57.723681Z",
     "start_time": "2019-01-10T09:15:57.542019Z"
    }
   },
   "outputs": [
    {
     "data": {
      "text/html": [
       "<div>\n",
       "<style scoped>\n",
       "    .dataframe tbody tr th:only-of-type {\n",
       "        vertical-align: middle;\n",
       "    }\n",
       "\n",
       "    .dataframe tbody tr th {\n",
       "        vertical-align: top;\n",
       "    }\n",
       "\n",
       "    .dataframe thead th {\n",
       "        text-align: right;\n",
       "    }\n",
       "</style>\n",
       "<table border=\"1\" class=\"dataframe\">\n",
       "  <thead>\n",
       "    <tr style=\"text-align: right;\">\n",
       "      <th></th>\n",
       "      <th>img</th>\n",
       "      <th>c0</th>\n",
       "      <th>c1</th>\n",
       "      <th>c2</th>\n",
       "      <th>c3</th>\n",
       "      <th>c4</th>\n",
       "      <th>c5</th>\n",
       "      <th>c6</th>\n",
       "      <th>c7</th>\n",
       "      <th>c8</th>\n",
       "      <th>c9</th>\n",
       "    </tr>\n",
       "  </thead>\n",
       "  <tbody>\n",
       "    <tr>\n",
       "      <th>0</th>\n",
       "      <td>img_1.jpg</td>\n",
       "      <td>0.1</td>\n",
       "      <td>0.1</td>\n",
       "      <td>0.1</td>\n",
       "      <td>0.1</td>\n",
       "      <td>0.1</td>\n",
       "      <td>0.1</td>\n",
       "      <td>0.1</td>\n",
       "      <td>0.1</td>\n",
       "      <td>0.1</td>\n",
       "      <td>0.1</td>\n",
       "    </tr>\n",
       "    <tr>\n",
       "      <th>1</th>\n",
       "      <td>img_10.jpg</td>\n",
       "      <td>0.1</td>\n",
       "      <td>0.1</td>\n",
       "      <td>0.1</td>\n",
       "      <td>0.1</td>\n",
       "      <td>0.1</td>\n",
       "      <td>0.1</td>\n",
       "      <td>0.1</td>\n",
       "      <td>0.1</td>\n",
       "      <td>0.1</td>\n",
       "      <td>0.1</td>\n",
       "    </tr>\n",
       "    <tr>\n",
       "      <th>2</th>\n",
       "      <td>img_100.jpg</td>\n",
       "      <td>0.1</td>\n",
       "      <td>0.1</td>\n",
       "      <td>0.1</td>\n",
       "      <td>0.1</td>\n",
       "      <td>0.1</td>\n",
       "      <td>0.1</td>\n",
       "      <td>0.1</td>\n",
       "      <td>0.1</td>\n",
       "      <td>0.1</td>\n",
       "      <td>0.1</td>\n",
       "    </tr>\n",
       "    <tr>\n",
       "      <th>3</th>\n",
       "      <td>img_1000.jpg</td>\n",
       "      <td>0.1</td>\n",
       "      <td>0.1</td>\n",
       "      <td>0.1</td>\n",
       "      <td>0.1</td>\n",
       "      <td>0.1</td>\n",
       "      <td>0.1</td>\n",
       "      <td>0.1</td>\n",
       "      <td>0.1</td>\n",
       "      <td>0.1</td>\n",
       "      <td>0.1</td>\n",
       "    </tr>\n",
       "    <tr>\n",
       "      <th>4</th>\n",
       "      <td>img_100000.jpg</td>\n",
       "      <td>0.1</td>\n",
       "      <td>0.1</td>\n",
       "      <td>0.1</td>\n",
       "      <td>0.1</td>\n",
       "      <td>0.1</td>\n",
       "      <td>0.1</td>\n",
       "      <td>0.1</td>\n",
       "      <td>0.1</td>\n",
       "      <td>0.1</td>\n",
       "      <td>0.1</td>\n",
       "    </tr>\n",
       "  </tbody>\n",
       "</table>\n",
       "</div>"
      ],
      "text/plain": [
       "              img   c0   c1   c2   c3   c4   c5   c6   c7   c8   c9\n",
       "0       img_1.jpg  0.1  0.1  0.1  0.1  0.1  0.1  0.1  0.1  0.1  0.1\n",
       "1      img_10.jpg  0.1  0.1  0.1  0.1  0.1  0.1  0.1  0.1  0.1  0.1\n",
       "2     img_100.jpg  0.1  0.1  0.1  0.1  0.1  0.1  0.1  0.1  0.1  0.1\n",
       "3    img_1000.jpg  0.1  0.1  0.1  0.1  0.1  0.1  0.1  0.1  0.1  0.1\n",
       "4  img_100000.jpg  0.1  0.1  0.1  0.1  0.1  0.1  0.1  0.1  0.1  0.1"
      ]
     },
     "execution_count": 41,
     "metadata": {},
     "output_type": "execute_result"
    }
   ],
   "source": [
    "subm_df = pd.read_csv('sample_submission.csv')\n",
    "subm_df.head()"
   ]
  },
  {
   "cell_type": "code",
   "execution_count": 42,
   "metadata": {
    "ExecuteTime": {
     "end_time": "2019-01-10T09:16:28.855151Z",
     "start_time": "2019-01-10T09:16:28.842962Z"
    }
   },
   "outputs": [
    {
     "data": {
      "text/html": [
       "<div>\n",
       "<style scoped>\n",
       "    .dataframe tbody tr th:only-of-type {\n",
       "        vertical-align: middle;\n",
       "    }\n",
       "\n",
       "    .dataframe tbody tr th {\n",
       "        vertical-align: top;\n",
       "    }\n",
       "\n",
       "    .dataframe thead th {\n",
       "        text-align: right;\n",
       "    }\n",
       "</style>\n",
       "<table border=\"1\" class=\"dataframe\">\n",
       "  <thead>\n",
       "    <tr style=\"text-align: right;\">\n",
       "      <th></th>\n",
       "      <th>c0</th>\n",
       "      <th>c1</th>\n",
       "      <th>c2</th>\n",
       "      <th>c3</th>\n",
       "      <th>c4</th>\n",
       "      <th>c5</th>\n",
       "      <th>c6</th>\n",
       "      <th>c7</th>\n",
       "      <th>c8</th>\n",
       "      <th>c9</th>\n",
       "    </tr>\n",
       "  </thead>\n",
       "  <tbody>\n",
       "    <tr>\n",
       "      <th>0</th>\n",
       "      <td>0.072749</td>\n",
       "      <td>9.643327e-03</td>\n",
       "      <td>1.753440e-03</td>\n",
       "      <td>0.007131</td>\n",
       "      <td>0.024222</td>\n",
       "      <td>0.001202</td>\n",
       "      <td>0.002161</td>\n",
       "      <td>0.728382</td>\n",
       "      <td>0.025069</td>\n",
       "      <td>0.127686</td>\n",
       "    </tr>\n",
       "    <tr>\n",
       "      <th>1</th>\n",
       "      <td>0.338652</td>\n",
       "      <td>5.745593e-04</td>\n",
       "      <td>9.076547e-05</td>\n",
       "      <td>0.000166</td>\n",
       "      <td>0.000624</td>\n",
       "      <td>0.000374</td>\n",
       "      <td>0.000555</td>\n",
       "      <td>0.000611</td>\n",
       "      <td>0.015410</td>\n",
       "      <td>0.642943</td>\n",
       "    </tr>\n",
       "    <tr>\n",
       "      <th>2</th>\n",
       "      <td>0.000333</td>\n",
       "      <td>4.626042e-06</td>\n",
       "      <td>2.232624e-03</td>\n",
       "      <td>0.000072</td>\n",
       "      <td>0.996181</td>\n",
       "      <td>0.000014</td>\n",
       "      <td>0.000049</td>\n",
       "      <td>0.000078</td>\n",
       "      <td>0.000975</td>\n",
       "      <td>0.000060</td>\n",
       "    </tr>\n",
       "    <tr>\n",
       "      <th>3</th>\n",
       "      <td>0.000094</td>\n",
       "      <td>1.958470e-07</td>\n",
       "      <td>1.817063e-07</td>\n",
       "      <td>0.000120</td>\n",
       "      <td>0.000024</td>\n",
       "      <td>0.917951</td>\n",
       "      <td>0.000010</td>\n",
       "      <td>0.000018</td>\n",
       "      <td>0.000163</td>\n",
       "      <td>0.081619</td>\n",
       "    </tr>\n",
       "    <tr>\n",
       "      <th>4</th>\n",
       "      <td>0.000004</td>\n",
       "      <td>4.427725e-06</td>\n",
       "      <td>1.239486e-03</td>\n",
       "      <td>0.000003</td>\n",
       "      <td>0.000022</td>\n",
       "      <td>0.000006</td>\n",
       "      <td>0.000017</td>\n",
       "      <td>0.000244</td>\n",
       "      <td>0.998056</td>\n",
       "      <td>0.000404</td>\n",
       "    </tr>\n",
       "  </tbody>\n",
       "</table>\n",
       "</div>"
      ],
      "text/plain": [
       "         c0            c1            c2        c3        c4        c5  \\\n",
       "0  0.072749  9.643327e-03  1.753440e-03  0.007131  0.024222  0.001202   \n",
       "1  0.338652  5.745593e-04  9.076547e-05  0.000166  0.000624  0.000374   \n",
       "2  0.000333  4.626042e-06  2.232624e-03  0.000072  0.996181  0.000014   \n",
       "3  0.000094  1.958470e-07  1.817063e-07  0.000120  0.000024  0.917951   \n",
       "4  0.000004  4.427725e-06  1.239486e-03  0.000003  0.000022  0.000006   \n",
       "\n",
       "         c6        c7        c8        c9  \n",
       "0  0.002161  0.728382  0.025069  0.127686  \n",
       "1  0.000555  0.000611  0.015410  0.642943  \n",
       "2  0.000049  0.000078  0.000975  0.000060  \n",
       "3  0.000010  0.000018  0.000163  0.081619  \n",
       "4  0.000017  0.000244  0.998056  0.000404  "
      ]
     },
     "execution_count": 42,
     "metadata": {},
     "output_type": "execute_result"
    }
   ],
   "source": [
    "preds_df = pd.DataFrame(preds_avg, columns=[f'c{i}' for i in range(0, 10)])\n",
    "preds_df.head()"
   ]
  },
  {
   "cell_type": "code",
   "execution_count": 43,
   "metadata": {
    "ExecuteTime": {
     "end_time": "2019-01-10T09:17:25.712921Z",
     "start_time": "2019-01-10T09:17:25.209525Z"
    }
   },
   "outputs": [
    {
     "data": {
      "text/plain": [
       "['img_82315.jpg',\n",
       " 'img_42500.jpg',\n",
       " 'img_73683.jpg',\n",
       " 'img_403.jpg',\n",
       " 'img_89545.jpg']"
      ]
     },
     "execution_count": 43,
     "metadata": {},
     "output_type": "execute_result"
    }
   ],
   "source": [
    "imgs = list(map(lambda x: Path(x).parts[-1], data.test_ds.items))\n",
    "imgs[:5]"
   ]
  },
  {
   "cell_type": "code",
   "execution_count": 44,
   "metadata": {
    "ExecuteTime": {
     "end_time": "2019-01-10T09:17:52.342666Z",
     "start_time": "2019-01-10T09:17:52.336578Z"
    }
   },
   "outputs": [],
   "source": [
    "preds_df[\"img\"] = imgs"
   ]
  },
  {
   "cell_type": "code",
   "execution_count": 45,
   "metadata": {
    "ExecuteTime": {
     "end_time": "2019-01-10T09:17:55.378937Z",
     "start_time": "2019-01-10T09:17:55.366946Z"
    }
   },
   "outputs": [
    {
     "data": {
      "text/html": [
       "<div>\n",
       "<style scoped>\n",
       "    .dataframe tbody tr th:only-of-type {\n",
       "        vertical-align: middle;\n",
       "    }\n",
       "\n",
       "    .dataframe tbody tr th {\n",
       "        vertical-align: top;\n",
       "    }\n",
       "\n",
       "    .dataframe thead th {\n",
       "        text-align: right;\n",
       "    }\n",
       "</style>\n",
       "<table border=\"1\" class=\"dataframe\">\n",
       "  <thead>\n",
       "    <tr style=\"text-align: right;\">\n",
       "      <th></th>\n",
       "      <th>c0</th>\n",
       "      <th>c1</th>\n",
       "      <th>c2</th>\n",
       "      <th>c3</th>\n",
       "      <th>c4</th>\n",
       "      <th>c5</th>\n",
       "      <th>c6</th>\n",
       "      <th>c7</th>\n",
       "      <th>c8</th>\n",
       "      <th>c9</th>\n",
       "      <th>img</th>\n",
       "    </tr>\n",
       "  </thead>\n",
       "  <tbody>\n",
       "    <tr>\n",
       "      <th>0</th>\n",
       "      <td>0.072749</td>\n",
       "      <td>9.643327e-03</td>\n",
       "      <td>1.753440e-03</td>\n",
       "      <td>0.007131</td>\n",
       "      <td>0.024222</td>\n",
       "      <td>0.001202</td>\n",
       "      <td>0.002161</td>\n",
       "      <td>0.728382</td>\n",
       "      <td>0.025069</td>\n",
       "      <td>0.127686</td>\n",
       "      <td>img_82315.jpg</td>\n",
       "    </tr>\n",
       "    <tr>\n",
       "      <th>1</th>\n",
       "      <td>0.338652</td>\n",
       "      <td>5.745593e-04</td>\n",
       "      <td>9.076547e-05</td>\n",
       "      <td>0.000166</td>\n",
       "      <td>0.000624</td>\n",
       "      <td>0.000374</td>\n",
       "      <td>0.000555</td>\n",
       "      <td>0.000611</td>\n",
       "      <td>0.015410</td>\n",
       "      <td>0.642943</td>\n",
       "      <td>img_42500.jpg</td>\n",
       "    </tr>\n",
       "    <tr>\n",
       "      <th>2</th>\n",
       "      <td>0.000333</td>\n",
       "      <td>4.626042e-06</td>\n",
       "      <td>2.232624e-03</td>\n",
       "      <td>0.000072</td>\n",
       "      <td>0.996181</td>\n",
       "      <td>0.000014</td>\n",
       "      <td>0.000049</td>\n",
       "      <td>0.000078</td>\n",
       "      <td>0.000975</td>\n",
       "      <td>0.000060</td>\n",
       "      <td>img_73683.jpg</td>\n",
       "    </tr>\n",
       "    <tr>\n",
       "      <th>3</th>\n",
       "      <td>0.000094</td>\n",
       "      <td>1.958470e-07</td>\n",
       "      <td>1.817063e-07</td>\n",
       "      <td>0.000120</td>\n",
       "      <td>0.000024</td>\n",
       "      <td>0.917951</td>\n",
       "      <td>0.000010</td>\n",
       "      <td>0.000018</td>\n",
       "      <td>0.000163</td>\n",
       "      <td>0.081619</td>\n",
       "      <td>img_403.jpg</td>\n",
       "    </tr>\n",
       "    <tr>\n",
       "      <th>4</th>\n",
       "      <td>0.000004</td>\n",
       "      <td>4.427725e-06</td>\n",
       "      <td>1.239486e-03</td>\n",
       "      <td>0.000003</td>\n",
       "      <td>0.000022</td>\n",
       "      <td>0.000006</td>\n",
       "      <td>0.000017</td>\n",
       "      <td>0.000244</td>\n",
       "      <td>0.998056</td>\n",
       "      <td>0.000404</td>\n",
       "      <td>img_89545.jpg</td>\n",
       "    </tr>\n",
       "  </tbody>\n",
       "</table>\n",
       "</div>"
      ],
      "text/plain": [
       "         c0            c1            c2        c3        c4        c5  \\\n",
       "0  0.072749  9.643327e-03  1.753440e-03  0.007131  0.024222  0.001202   \n",
       "1  0.338652  5.745593e-04  9.076547e-05  0.000166  0.000624  0.000374   \n",
       "2  0.000333  4.626042e-06  2.232624e-03  0.000072  0.996181  0.000014   \n",
       "3  0.000094  1.958470e-07  1.817063e-07  0.000120  0.000024  0.917951   \n",
       "4  0.000004  4.427725e-06  1.239486e-03  0.000003  0.000022  0.000006   \n",
       "\n",
       "         c6        c7        c8        c9            img  \n",
       "0  0.002161  0.728382  0.025069  0.127686  img_82315.jpg  \n",
       "1  0.000555  0.000611  0.015410  0.642943  img_42500.jpg  \n",
       "2  0.000049  0.000078  0.000975  0.000060  img_73683.jpg  \n",
       "3  0.000010  0.000018  0.000163  0.081619    img_403.jpg  \n",
       "4  0.000017  0.000244  0.998056  0.000404  img_89545.jpg  "
      ]
     },
     "execution_count": 45,
     "metadata": {},
     "output_type": "execute_result"
    }
   ],
   "source": [
    "preds_df.head()"
   ]
  },
  {
   "cell_type": "code",
   "execution_count": 47,
   "metadata": {
    "ExecuteTime": {
     "end_time": "2019-01-10T09:18:56.977606Z",
     "start_time": "2019-01-10T09:18:55.891356Z"
    }
   },
   "outputs": [],
   "source": [
    "preds_df[['img'] + [f'c{i}' for i in range(0, 10)]].to_csv('sub.3.csv', index=False, float_format='%.5f')"
   ]
  },
  {
   "cell_type": "code",
   "execution_count": 48,
   "metadata": {
    "ExecuteTime": {
     "end_time": "2019-01-10T09:19:12.603023Z",
     "start_time": "2019-01-10T09:19:12.600508Z"
    }
   },
   "outputs": [],
   "source": [
    "from IPython.display import FileLink"
   ]
  },
  {
   "cell_type": "code",
   "execution_count": 49,
   "metadata": {
    "ExecuteTime": {
     "end_time": "2019-01-10T09:19:19.312106Z",
     "start_time": "2019-01-10T09:19:19.307950Z"
    }
   },
   "outputs": [
    {
     "data": {
      "text/html": [
       "<a href='sub.3.csv' target='_blank'>sub.3.csv</a><br>"
      ],
      "text/plain": [
       "/home/nihargajre/datasets/statefarm/sub.3.csv"
      ]
     },
     "execution_count": 49,
     "metadata": {},
     "output_type": "execute_result"
    }
   ],
   "source": [
    "FileLink('sub.3.csv')"
   ]
  },
  {
   "cell_type": "code",
   "execution_count": 50,
   "metadata": {
    "ExecuteTime": {
     "end_time": "2019-01-10T09:19:39.088286Z",
     "start_time": "2019-01-10T09:19:38.935304Z"
    }
   },
   "outputs": [
    {
     "name": "stdout",
     "output_type": "stream",
     "text": [
      "img,c0,c1,c2,c3,c4,c5,c6,c7,c8,c9\r\n",
      "img_82315.jpg,0.07275,0.00964,0.00175,0.00713,0.02422,0.00120,0.00216,0.72838,0.02507,0.12769\r\n",
      "img_42500.jpg,0.33865,0.00057,0.00009,0.00017,0.00062,0.00037,0.00055,0.00061,0.01541,0.64294\r\n",
      "img_73683.jpg,0.00033,0.00000,0.00223,0.00007,0.99618,0.00001,0.00005,0.00008,0.00098,0.00006\r\n",
      "img_403.jpg,0.00009,0.00000,0.00000,0.00012,0.00002,0.91795,0.00001,0.00002,0.00016,0.08162\r\n"
     ]
    }
   ],
   "source": [
    "!head -n 5 sub.3.csv"
   ]
  },
  {
   "cell_type": "markdown",
   "metadata": {},
   "source": [
    "LB Score: __0.25033__"
   ]
  }
 ],
 "metadata": {
  "kernelspec": {
   "display_name": "Python 3",
   "language": "python",
   "name": "python3"
  },
  "language_info": {
   "codemirror_mode": {
    "name": "ipython",
    "version": 3
   },
   "file_extension": ".py",
   "mimetype": "text/x-python",
   "name": "python",
   "nbconvert_exporter": "python",
   "pygments_lexer": "ipython3",
   "version": "3.6.7"
  }
 },
 "nbformat": 4,
 "nbformat_minor": 2
}
